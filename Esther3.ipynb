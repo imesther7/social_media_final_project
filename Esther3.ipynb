{
 "cells": [
  {
   "cell_type": "markdown",
   "id": "c4cccc3c",
   "metadata": {},
   "source": [
    "# Setup"
   ]
  },
  {
   "cell_type": "code",
   "execution_count": 1,
   "id": "2b393cce",
   "metadata": {},
   "outputs": [
    {
     "name": "stdout",
     "output_type": "stream",
     "text": [
      "Requirement already satisfied: pandas in /Users/esther/opt/anaconda3/lib/python3.8/site-packages (from -r requirements.txt (line 1)) (1.2.4)\n",
      "Requirement already satisfied: numpy in /Users/esther/opt/anaconda3/lib/python3.8/site-packages (from -r requirements.txt (line 2)) (1.22.4)\n",
      "Requirement already satisfied: seaborn in /Users/esther/opt/anaconda3/lib/python3.8/site-packages (from -r requirements.txt (line 3)) (0.11.1)\n",
      "Requirement already satisfied: matplotlib in /Users/esther/opt/anaconda3/lib/python3.8/site-packages (from -r requirements.txt (line 4)) (3.3.4)\n",
      "Requirement already satisfied: sqlalchemy==1.4.39 in /Users/esther/opt/anaconda3/lib/python3.8/site-packages (from -r requirements.txt (line 5)) (1.4.39)\n",
      "Requirement already satisfied: loguru==0.6.0 in /Users/esther/opt/anaconda3/lib/python3.8/site-packages (from -r requirements.txt (line 6)) (0.6.0)\n",
      "Requirement already satisfied: networkx==2.6.3 in /Users/esther/opt/anaconda3/lib/python3.8/site-packages (from -r requirements.txt (line 7)) (2.6.3)\n",
      "Requirement already satisfied: transformers in /Users/esther/opt/anaconda3/lib/python3.8/site-packages (from -r requirements.txt (line 8)) (4.26.1)\n",
      "Requirement already satisfied: wordcloud==1.8.2.2 in /Users/esther/opt/anaconda3/lib/python3.8/site-packages (from -r requirements.txt (line 9)) (1.8.2.2)\n",
      "Requirement already satisfied: umap-learn in /Users/esther/opt/anaconda3/lib/python3.8/site-packages (from -r requirements.txt (line 10)) (0.5.3)\n",
      "Requirement already satisfied: pyLDAvis==2.1.2 in /Users/esther/opt/anaconda3/lib/python3.8/site-packages (from -r requirements.txt (line 11)) (2.1.2)\n",
      "Requirement already satisfied: holoviews in /Users/esther/opt/anaconda3/lib/python3.8/site-packages (from -r requirements.txt (line 12)) (1.15.4)\n",
      "Requirement already satisfied: bokeh in /Users/esther/opt/anaconda3/lib/python3.8/site-packages (from -r requirements.txt (line 13)) (2.4.3)\n",
      "Requirement already satisfied: sklearn in /Users/esther/opt/anaconda3/lib/python3.8/site-packages (from -r requirements.txt (line 14)) (0.0.post1)\n",
      "Requirement already satisfied: openai in /Users/esther/opt/anaconda3/lib/python3.8/site-packages (from -r requirements.txt (line 15)) (0.27.0)\n",
      "Requirement already satisfied: wandb in /Users/esther/opt/anaconda3/lib/python3.8/site-packages (from -r requirements.txt (line 16)) (0.13.10)\n",
      "Requirement already satisfied: greenlet!=0.4.17 in /Users/esther/opt/anaconda3/lib/python3.8/site-packages (from sqlalchemy==1.4.39->-r requirements.txt (line 5)) (1.0.0)\n",
      "Requirement already satisfied: pillow in /Users/esther/opt/anaconda3/lib/python3.8/site-packages (from wordcloud==1.8.2.2->-r requirements.txt (line 9)) (8.2.0)\n",
      "Requirement already satisfied: wheel>=0.23.0 in /Users/esther/opt/anaconda3/lib/python3.8/site-packages (from pyLDAvis==2.1.2->-r requirements.txt (line 11)) (0.36.2)\n",
      "Requirement already satisfied: scipy>=0.18.0 in /Users/esther/opt/anaconda3/lib/python3.8/site-packages (from pyLDAvis==2.1.2->-r requirements.txt (line 11)) (1.6.2)\n",
      "Requirement already satisfied: joblib>=0.8.4 in /Users/esther/opt/anaconda3/lib/python3.8/site-packages (from pyLDAvis==2.1.2->-r requirements.txt (line 11)) (1.0.1)\n",
      "Requirement already satisfied: jinja2>=2.7.2 in /Users/esther/opt/anaconda3/lib/python3.8/site-packages (from pyLDAvis==2.1.2->-r requirements.txt (line 11)) (3.0.2)\n",
      "Requirement already satisfied: numexpr in /Users/esther/opt/anaconda3/lib/python3.8/site-packages (from pyLDAvis==2.1.2->-r requirements.txt (line 11)) (2.7.3)\n",
      "Requirement already satisfied: pytest in /Users/esther/opt/anaconda3/lib/python3.8/site-packages (from pyLDAvis==2.1.2->-r requirements.txt (line 11)) (6.2.3)\n",
      "Requirement already satisfied: future in /Users/esther/opt/anaconda3/lib/python3.8/site-packages (from pyLDAvis==2.1.2->-r requirements.txt (line 11)) (0.18.2)\n",
      "Requirement already satisfied: funcy in /Users/esther/opt/anaconda3/lib/python3.8/site-packages (from pyLDAvis==2.1.2->-r requirements.txt (line 11)) (1.18)\n",
      "Requirement already satisfied: python-dateutil>=2.7.3 in /Users/esther/opt/anaconda3/lib/python3.8/site-packages (from pandas->-r requirements.txt (line 1)) (2.8.1)\n",
      "Requirement already satisfied: pytz>=2017.3 in /Users/esther/opt/anaconda3/lib/python3.8/site-packages (from pandas->-r requirements.txt (line 1)) (2021.1)\n",
      "Requirement already satisfied: cycler>=0.10 in /Users/esther/opt/anaconda3/lib/python3.8/site-packages (from matplotlib->-r requirements.txt (line 4)) (0.10.0)\n",
      "Requirement already satisfied: kiwisolver>=1.0.1 in /Users/esther/opt/anaconda3/lib/python3.8/site-packages (from matplotlib->-r requirements.txt (line 4)) (1.3.1)\n",
      "Requirement already satisfied: pyparsing!=2.0.4,!=2.1.2,!=2.1.6,>=2.0.3 in /Users/esther/opt/anaconda3/lib/python3.8/site-packages (from matplotlib->-r requirements.txt (line 4)) (2.4.7)\n",
      "Requirement already satisfied: filelock in /Users/esther/opt/anaconda3/lib/python3.8/site-packages (from transformers->-r requirements.txt (line 8)) (3.0.12)\n",
      "Requirement already satisfied: huggingface-hub<1.0,>=0.11.0 in /Users/esther/opt/anaconda3/lib/python3.8/site-packages (from transformers->-r requirements.txt (line 8)) (0.12.1)\n",
      "Requirement already satisfied: packaging>=20.0 in /Users/esther/opt/anaconda3/lib/python3.8/site-packages (from transformers->-r requirements.txt (line 8)) (21.3)\n",
      "Requirement already satisfied: pyyaml>=5.1 in /Users/esther/opt/anaconda3/lib/python3.8/site-packages (from transformers->-r requirements.txt (line 8)) (5.4.1)\n",
      "Requirement already satisfied: regex!=2019.12.17 in /Users/esther/opt/anaconda3/lib/python3.8/site-packages (from transformers->-r requirements.txt (line 8)) (2021.4.4)\n",
      "Requirement already satisfied: requests in /Users/esther/opt/anaconda3/lib/python3.8/site-packages (from transformers->-r requirements.txt (line 8)) (2.28.0)\n",
      "Requirement already satisfied: tokenizers!=0.11.3,<0.14,>=0.11.1 in /Users/esther/opt/anaconda3/lib/python3.8/site-packages (from transformers->-r requirements.txt (line 8)) (0.13.2)\n",
      "Requirement already satisfied: tqdm>=4.27 in /Users/esther/opt/anaconda3/lib/python3.8/site-packages (from transformers->-r requirements.txt (line 8)) (4.59.0)\n",
      "Requirement already satisfied: scikit-learn>=0.22 in /Users/esther/opt/anaconda3/lib/python3.8/site-packages (from umap-learn->-r requirements.txt (line 10)) (0.24.1)\n",
      "Requirement already satisfied: numba>=0.49 in /Users/esther/opt/anaconda3/lib/python3.8/site-packages (from umap-learn->-r requirements.txt (line 10)) (0.53.1)\n",
      "Requirement already satisfied: pynndescent>=0.5 in /Users/esther/opt/anaconda3/lib/python3.8/site-packages (from umap-learn->-r requirements.txt (line 10)) (0.5.8)\n",
      "Requirement already satisfied: param<2.0,>=1.9.3 in /Users/esther/opt/anaconda3/lib/python3.8/site-packages (from holoviews->-r requirements.txt (line 12)) (1.12.3)\n",
      "Requirement already satisfied: pyviz-comms>=0.7.4 in /Users/esther/opt/anaconda3/lib/python3.8/site-packages (from holoviews->-r requirements.txt (line 12)) (2.2.1)\n",
      "Requirement already satisfied: panel>=0.13.1 in /Users/esther/opt/anaconda3/lib/python3.8/site-packages (from holoviews->-r requirements.txt (line 12)) (0.14.4)\n",
      "Requirement already satisfied: colorcet in /Users/esther/opt/anaconda3/lib/python3.8/site-packages (from holoviews->-r requirements.txt (line 12)) (3.0.1)\n",
      "Requirement already satisfied: tornado>=5.1 in /Users/esther/opt/anaconda3/lib/python3.8/site-packages (from bokeh->-r requirements.txt (line 13)) (6.1)\n",
      "Requirement already satisfied: typing-extensions>=3.10.0 in /Users/esther/opt/anaconda3/lib/python3.8/site-packages (from bokeh->-r requirements.txt (line 13)) (4.5.0)\n",
      "Requirement already satisfied: aiohttp in /Users/esther/opt/anaconda3/lib/python3.8/site-packages (from openai->-r requirements.txt (line 15)) (3.8.4)\n",
      "Requirement already satisfied: Click!=8.0.0,>=7.0 in /Users/esther/opt/anaconda3/lib/python3.8/site-packages (from wandb->-r requirements.txt (line 16)) (7.1.2)\n",
      "Requirement already satisfied: GitPython>=1.0.0 in /Users/esther/opt/anaconda3/lib/python3.8/site-packages (from wandb->-r requirements.txt (line 16)) (3.1.31)\n",
      "Requirement already satisfied: psutil>=5.0.0 in /Users/esther/opt/anaconda3/lib/python3.8/site-packages (from wandb->-r requirements.txt (line 16)) (5.8.0)\n",
      "Requirement already satisfied: sentry-sdk>=1.0.0 in /Users/esther/opt/anaconda3/lib/python3.8/site-packages (from wandb->-r requirements.txt (line 16)) (1.16.0)\n",
      "Requirement already satisfied: docker-pycreds>=0.4.0 in /Users/esther/opt/anaconda3/lib/python3.8/site-packages (from wandb->-r requirements.txt (line 16)) (0.4.0)\n",
      "Requirement already satisfied: pathtools in /Users/esther/opt/anaconda3/lib/python3.8/site-packages (from wandb->-r requirements.txt (line 16)) (0.1.2)\n",
      "Requirement already satisfied: setproctitle in /Users/esther/opt/anaconda3/lib/python3.8/site-packages (from wandb->-r requirements.txt (line 16)) (1.3.2)\n",
      "Requirement already satisfied: setuptools in /Users/esther/opt/anaconda3/lib/python3.8/site-packages (from wandb->-r requirements.txt (line 16)) (52.0.0.post20210125)\n",
      "Requirement already satisfied: appdirs>=1.4.3 in /Users/esther/opt/anaconda3/lib/python3.8/site-packages (from wandb->-r requirements.txt (line 16)) (1.4.4)\n",
      "Requirement already satisfied: protobuf!=4.21.0,<5,>=3.19.0 in /Users/esther/opt/anaconda3/lib/python3.8/site-packages (from wandb->-r requirements.txt (line 16)) (3.19.6)\n"
     ]
    },
    {
     "name": "stdout",
     "output_type": "stream",
     "text": [
      "Requirement already satisfied: six in /Users/esther/opt/anaconda3/lib/python3.8/site-packages (from cycler>=0.10->matplotlib->-r requirements.txt (line 4)) (1.15.0)\n",
      "Requirement already satisfied: gitdb<5,>=4.0.1 in /Users/esther/opt/anaconda3/lib/python3.8/site-packages (from GitPython>=1.0.0->wandb->-r requirements.txt (line 16)) (4.0.10)\n",
      "Requirement already satisfied: MarkupSafe>=2.0 in /Users/esther/opt/anaconda3/lib/python3.8/site-packages (from jinja2>=2.7.2->pyLDAvis==2.1.2->-r requirements.txt (line 11)) (2.0.1)\n",
      "Requirement already satisfied: llvmlite<0.37,>=0.36.0rc1 in /Users/esther/opt/anaconda3/lib/python3.8/site-packages (from numba>=0.49->umap-learn->-r requirements.txt (line 10)) (0.36.0)\n",
      "Requirement already satisfied: markdown in /Users/esther/opt/anaconda3/lib/python3.8/site-packages (from panel>=0.13.1->holoviews->-r requirements.txt (line 12)) (3.4.1)\n",
      "Requirement already satisfied: pyct>=0.4.4 in /Users/esther/opt/anaconda3/lib/python3.8/site-packages (from panel>=0.13.1->holoviews->-r requirements.txt (line 12)) (0.5.0)\n",
      "Requirement already satisfied: bleach in /Users/esther/opt/anaconda3/lib/python3.8/site-packages (from panel>=0.13.1->holoviews->-r requirements.txt (line 12)) (3.3.0)\n",
      "Requirement already satisfied: charset-normalizer~=2.0.0 in /Users/esther/opt/anaconda3/lib/python3.8/site-packages (from requests->transformers->-r requirements.txt (line 8)) (2.0.7)\n",
      "Requirement already satisfied: idna<4,>=2.5 in /Users/esther/opt/anaconda3/lib/python3.8/site-packages (from requests->transformers->-r requirements.txt (line 8)) (2.10)\n",
      "Requirement already satisfied: urllib3<1.27,>=1.21.1 in /Users/esther/opt/anaconda3/lib/python3.8/site-packages (from requests->transformers->-r requirements.txt (line 8)) (1.26.14)\n",
      "Requirement already satisfied: certifi>=2017.4.17 in /Users/esther/opt/anaconda3/lib/python3.8/site-packages (from requests->transformers->-r requirements.txt (line 8)) (2020.12.5)\n",
      "Requirement already satisfied: threadpoolctl>=2.0.0 in /Users/esther/opt/anaconda3/lib/python3.8/site-packages (from scikit-learn>=0.22->umap-learn->-r requirements.txt (line 10)) (2.1.0)\n",
      "Requirement already satisfied: attrs>=17.3.0 in /Users/esther/opt/anaconda3/lib/python3.8/site-packages (from aiohttp->openai->-r requirements.txt (line 15)) (20.3.0)\n",
      "Requirement already satisfied: multidict<7.0,>=4.5 in /Users/esther/opt/anaconda3/lib/python3.8/site-packages (from aiohttp->openai->-r requirements.txt (line 15)) (6.0.4)\n",
      "Requirement already satisfied: async-timeout<5.0,>=4.0.0a3 in /Users/esther/opt/anaconda3/lib/python3.8/site-packages (from aiohttp->openai->-r requirements.txt (line 15)) (4.0.2)\n",
      "Requirement already satisfied: yarl<2.0,>=1.0 in /Users/esther/opt/anaconda3/lib/python3.8/site-packages (from aiohttp->openai->-r requirements.txt (line 15)) (1.8.2)\n",
      "Requirement already satisfied: frozenlist>=1.1.1 in /Users/esther/opt/anaconda3/lib/python3.8/site-packages (from aiohttp->openai->-r requirements.txt (line 15)) (1.3.3)\n",
      "Requirement already satisfied: aiosignal>=1.1.2 in /Users/esther/opt/anaconda3/lib/python3.8/site-packages (from aiohttp->openai->-r requirements.txt (line 15)) (1.3.1)\n",
      "Requirement already satisfied: iniconfig in /Users/esther/opt/anaconda3/lib/python3.8/site-packages (from pytest->pyLDAvis==2.1.2->-r requirements.txt (line 11)) (1.1.1)\n",
      "Requirement already satisfied: pluggy<1.0.0a1,>=0.12 in /Users/esther/opt/anaconda3/lib/python3.8/site-packages (from pytest->pyLDAvis==2.1.2->-r requirements.txt (line 11)) (0.13.1)\n",
      "Requirement already satisfied: py>=1.8.2 in /Users/esther/opt/anaconda3/lib/python3.8/site-packages (from pytest->pyLDAvis==2.1.2->-r requirements.txt (line 11)) (1.10.0)\n",
      "Requirement already satisfied: toml in /Users/esther/opt/anaconda3/lib/python3.8/site-packages (from pytest->pyLDAvis==2.1.2->-r requirements.txt (line 11)) (0.10.2)\n",
      "Requirement already satisfied: smmap<6,>=3.0.1 in /Users/esther/opt/anaconda3/lib/python3.8/site-packages (from gitdb<5,>=4.0.1->GitPython>=1.0.0->wandb->-r requirements.txt (line 16)) (5.0.0)\n",
      "Requirement already satisfied: webencodings in /Users/esther/opt/anaconda3/lib/python3.8/site-packages (from bleach->panel>=0.13.1->holoviews->-r requirements.txt (line 12)) (0.5.1)\n",
      "Requirement already satisfied: importlib-metadata>=4.4 in /Users/esther/opt/anaconda3/lib/python3.8/site-packages (from markdown->panel>=0.13.1->holoviews->-r requirements.txt (line 12)) (4.12.0)\n",
      "Requirement already satisfied: zipp>=0.5 in /Users/esther/opt/anaconda3/lib/python3.8/site-packages (from importlib-metadata>=4.4->markdown->panel>=0.13.1->holoviews->-r requirements.txt (line 12)) (3.4.1)\n"
     ]
    }
   ],
   "source": [
    "!pip install -r requirements.txt"
   ]
  },
  {
   "cell_type": "code",
   "execution_count": 2,
   "id": "214763da",
   "metadata": {},
   "outputs": [],
   "source": [
    "from datetime import datetime, timedelta\n",
    "import numpy as np\n",
    "import sqlite3, sys, os\n",
    "import pandas as pd\n",
    "import matplotlib.pyplot as plt\n",
    "import seaborn as sns\n",
    "from collections import Counter\n",
    "from scipy import stats\n",
    "from statsmodels.stats.weightstats import ztest\n",
    "from statsmodels.stats.multitest import multipletests\n",
    "\n",
    "#import statsmodels.stats.multitest.multipletests as multipletests\n",
    "#helper code\n",
    "from scripts.api import *\n",
    "import scripts.TextAnalysis as ta\n",
    "\n",
    "pd.set_option(\"display.max_colwidth\", None)\n",
    "\n",
    "import umap\n",
    "import gensim.downloader as api\n",
    "from sklearn.feature_extraction.text import CountVectorizer, TfidfVectorizer\n",
    "from sklearn.decomposition import NMF, LatentDirichletAllocation\n",
    "\n",
    "import sklearn.cluster as cluster\n",
    "from sklearn import metrics\n",
    "from scipy import stats"
   ]
  },
  {
   "cell_type": "markdown",
   "id": "625abeca",
   "metadata": {},
   "source": [
    "# Import data"
   ]
  },
  {
   "cell_type": "code",
   "execution_count": 3,
   "id": "f4392a30",
   "metadata": {},
   "outputs": [],
   "source": [
    "before_1 = pd.read_csv(\"data/before_1.csv\", index_col=0)\n",
    "before_2 = pd.read_csv(\"data/before_2.csv\", index_col=0)\n",
    "before_3 = pd.read_csv(\"data/before_3.csv\", index_col=0)\n",
    "before_35 = pd.read_csv(\"data/before_35.csv\", index_col=0)\n",
    "before_4 = pd.read_csv(\"data/before_4.csv\", index_col=0, engine='python')"
   ]
  },
  {
   "cell_type": "code",
   "execution_count": 6,
   "id": "737000d2",
   "metadata": {},
   "outputs": [],
   "source": [
    "after_1 = pd.read_csv(\"data/after_1.csv\", index_col=0)\n",
    "after_2 = pd.read_csv(\"data/after_2.csv\", index_col=0)\n",
    "after_3 = pd.read_csv(\"data/after_3.csv\", index_col=0)\n",
    "after_35 = pd.read_csv(\"data/after_35.csv\", index_col=0)\n",
    "after_4_1 = pd.read_csv(\"data/after_4_1.csv\", index_col=0)\n",
    "after_4_2 = pd.read_csv(\"data/after_4_2.csv\", index_col=0)\n",
    "after_4_3 = pd.read_csv(\"data/after_4_3.csv\", index_col=0)\n",
    "after_4 = pd.concat([after_4_1, after_4_2, after_4_3], axis=0)"
   ]
  },
  {
   "cell_type": "markdown",
   "id": "16b5f742",
   "metadata": {},
   "source": [
    "# t test"
   ]
  },
  {
   "cell_type": "code",
   "execution_count": 10,
   "id": "e7e7668a",
   "metadata": {},
   "outputs": [
    {
     "name": "stdout",
     "output_type": "stream",
     "text": [
      "Before GPT-1 vs After GPT-1: t-stat = -1.190 (pvalue = 0.2354)\n",
      "\n",
      "Not significant at 1% level\n"
     ]
    }
   ],
   "source": [
    "X0 = before_1.sentiment\n",
    "X1 = after_1.sentiment\n",
    "(tstat, pval) =stats.ttest_ind(X0,X1, equal_var = False)\n",
    "\n",
    "print(f\"Before GPT-1 vs After GPT-1: t-stat = {tstat:.3f} (pvalue = {pval:.4f})\\n\")\n",
    "alpha = 0.01  #significance level\n",
    "if pval <=alpha:\n",
    "  print(\"Significant at 1% level\")\n",
    "else:\n",
    "  print(\"Not significant at 1% level\")"
   ]
  },
  {
   "cell_type": "code",
   "execution_count": 11,
   "id": "bbb8016e",
   "metadata": {},
   "outputs": [
    {
     "name": "stdout",
     "output_type": "stream",
     "text": [
      "Before GPT-2 vs After GPT-2: t-stat = 1.411 (pvalue = 0.1600)\n",
      "\n",
      "Not significant at 1% level\n"
     ]
    }
   ],
   "source": [
    "X0 = before_2.sentiment\n",
    "X1 = after_2.sentiment\n",
    "(tstat, pval) =stats.ttest_ind(X0,X1, equal_var = False)\n",
    "\n",
    "print(f\"Before GPT-2 vs After GPT-2: t-stat = {tstat:.3f} (pvalue = {pval:.4f})\\n\")\n",
    "alpha = 0.01  #significance level\n",
    "if pval <=alpha:\n",
    "  print(\"Significant at 1% level\")\n",
    "else:\n",
    "  print(\"Not significant at 1% level\")"
   ]
  },
  {
   "cell_type": "code",
   "execution_count": 12,
   "id": "fc67d4be",
   "metadata": {},
   "outputs": [
    {
     "name": "stdout",
     "output_type": "stream",
     "text": [
      "Before GPT-3 vs After GPT-3: t-stat = -0.709 (pvalue = 0.4786)\n",
      "\n",
      "Not significant at 1% level\n"
     ]
    }
   ],
   "source": [
    "X0 = before_3.sentiment\n",
    "X1 = after_3.sentiment\n",
    "(tstat, pval) =stats.ttest_ind(X0,X1, equal_var = False)\n",
    "\n",
    "print(f\"Before GPT-3 vs After GPT-3: t-stat = {tstat:.3f} (pvalue = {pval:.4f})\\n\")\n",
    "alpha = 0.01  #significance level\n",
    "if pval <=alpha:\n",
    "  print(\"Significant at 1% level\")\n",
    "else:\n",
    "  print(\"Not significant at 1% level\")"
   ]
  },
  {
   "cell_type": "code",
   "execution_count": 13,
   "id": "9fb5ea34",
   "metadata": {},
   "outputs": [
    {
     "name": "stdout",
     "output_type": "stream",
     "text": [
      "Before GPT-3.5 vs After GPT-3.5: t-stat = -3.225 (pvalue = 0.0013)\n",
      "\n",
      "Significant at 1% level\n"
     ]
    }
   ],
   "source": [
    "X0 = before_35.sentiment\n",
    "X1 = after_35.sentiment\n",
    "(tstat, pval) =stats.ttest_ind(X0,X1, equal_var = False)\n",
    "\n",
    "print(f\"Before GPT-3.5 vs After GPT-3.5: t-stat = {tstat:.3f} (pvalue = {pval:.4f})\\n\")\n",
    "alpha = 0.01  #significance level\n",
    "if pval <=alpha:\n",
    "  print(\"Significant at 1% level\")\n",
    "else:\n",
    "  print(\"Not significant at 1% level\")"
   ]
  },
  {
   "cell_type": "code",
   "execution_count": null,
   "id": "d3caac9b",
   "metadata": {},
   "outputs": [],
   "source": []
  }
 ],
 "metadata": {
  "kernelspec": {
   "display_name": "Python 3",
   "language": "python",
   "name": "python3"
  },
  "language_info": {
   "codemirror_mode": {
    "name": "ipython",
    "version": 3
   },
   "file_extension": ".py",
   "mimetype": "text/x-python",
   "name": "python",
   "nbconvert_exporter": "python",
   "pygments_lexer": "ipython3",
   "version": "3.8.8"
  }
 },
 "nbformat": 4,
 "nbformat_minor": 5
}

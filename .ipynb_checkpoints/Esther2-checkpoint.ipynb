{
 "cells": [
  {
   "cell_type": "markdown",
   "id": "f5deb89d",
   "metadata": {},
   "source": [
    "# Setup"
   ]
  },
  {
   "cell_type": "code",
   "execution_count": 1,
   "id": "ddd3ebc1",
   "metadata": {},
   "outputs": [
    {
     "name": "stdout",
     "output_type": "stream",
     "text": [
      "Requirement already satisfied: pandas in /Users/esther/opt/anaconda3/lib/python3.8/site-packages (from -r requirements.txt (line 1)) (1.2.4)\n",
      "Requirement already satisfied: numpy in /Users/esther/opt/anaconda3/lib/python3.8/site-packages (from -r requirements.txt (line 2)) (1.22.4)\n",
      "Requirement already satisfied: seaborn in /Users/esther/opt/anaconda3/lib/python3.8/site-packages (from -r requirements.txt (line 3)) (0.11.1)\n",
      "Requirement already satisfied: matplotlib in /Users/esther/opt/anaconda3/lib/python3.8/site-packages (from -r requirements.txt (line 4)) (3.3.4)\n",
      "Requirement already satisfied: sqlalchemy==1.4.39 in /Users/esther/opt/anaconda3/lib/python3.8/site-packages (from -r requirements.txt (line 5)) (1.4.39)\n",
      "Requirement already satisfied: loguru==0.6.0 in /Users/esther/opt/anaconda3/lib/python3.8/site-packages (from -r requirements.txt (line 6)) (0.6.0)\n",
      "Requirement already satisfied: networkx==2.6.3 in /Users/esther/opt/anaconda3/lib/python3.8/site-packages (from -r requirements.txt (line 7)) (2.6.3)\n",
      "Requirement already satisfied: transformers in /Users/esther/opt/anaconda3/lib/python3.8/site-packages (from -r requirements.txt (line 8)) (4.26.1)\n",
      "Requirement already satisfied: wordcloud==1.8.2.2 in /Users/esther/opt/anaconda3/lib/python3.8/site-packages (from -r requirements.txt (line 9)) (1.8.2.2)\n",
      "Requirement already satisfied: umap-learn in /Users/esther/opt/anaconda3/lib/python3.8/site-packages (from -r requirements.txt (line 10)) (0.5.3)\n",
      "Requirement already satisfied: pyLDAvis==2.1.2 in /Users/esther/opt/anaconda3/lib/python3.8/site-packages (from -r requirements.txt (line 11)) (2.1.2)\n",
      "Requirement already satisfied: holoviews in /Users/esther/opt/anaconda3/lib/python3.8/site-packages (from -r requirements.txt (line 12)) (1.15.4)\n",
      "Requirement already satisfied: bokeh in /Users/esther/opt/anaconda3/lib/python3.8/site-packages (from -r requirements.txt (line 13)) (2.4.3)\n",
      "Requirement already satisfied: sklearn in /Users/esther/opt/anaconda3/lib/python3.8/site-packages (from -r requirements.txt (line 14)) (0.0.post1)\n",
      "Requirement already satisfied: openai in /Users/esther/opt/anaconda3/lib/python3.8/site-packages (from -r requirements.txt (line 15)) (0.27.0)\n",
      "Requirement already satisfied: wandb in /Users/esther/opt/anaconda3/lib/python3.8/site-packages (from -r requirements.txt (line 16)) (0.13.10)\n",
      "Requirement already satisfied: greenlet!=0.4.17 in /Users/esther/opt/anaconda3/lib/python3.8/site-packages (from sqlalchemy==1.4.39->-r requirements.txt (line 5)) (1.0.0)\n",
      "Requirement already satisfied: pillow in /Users/esther/opt/anaconda3/lib/python3.8/site-packages (from wordcloud==1.8.2.2->-r requirements.txt (line 9)) (8.2.0)\n",
      "Requirement already satisfied: wheel>=0.23.0 in /Users/esther/opt/anaconda3/lib/python3.8/site-packages (from pyLDAvis==2.1.2->-r requirements.txt (line 11)) (0.36.2)\n",
      "Requirement already satisfied: scipy>=0.18.0 in /Users/esther/opt/anaconda3/lib/python3.8/site-packages (from pyLDAvis==2.1.2->-r requirements.txt (line 11)) (1.6.2)\n",
      "Requirement already satisfied: joblib>=0.8.4 in /Users/esther/opt/anaconda3/lib/python3.8/site-packages (from pyLDAvis==2.1.2->-r requirements.txt (line 11)) (1.0.1)\n",
      "Requirement already satisfied: jinja2>=2.7.2 in /Users/esther/opt/anaconda3/lib/python3.8/site-packages (from pyLDAvis==2.1.2->-r requirements.txt (line 11)) (3.0.2)\n",
      "Requirement already satisfied: numexpr in /Users/esther/opt/anaconda3/lib/python3.8/site-packages (from pyLDAvis==2.1.2->-r requirements.txt (line 11)) (2.7.3)\n",
      "Requirement already satisfied: pytest in /Users/esther/opt/anaconda3/lib/python3.8/site-packages (from pyLDAvis==2.1.2->-r requirements.txt (line 11)) (6.2.3)\n",
      "Requirement already satisfied: future in /Users/esther/opt/anaconda3/lib/python3.8/site-packages (from pyLDAvis==2.1.2->-r requirements.txt (line 11)) (0.18.2)\n",
      "Requirement already satisfied: funcy in /Users/esther/opt/anaconda3/lib/python3.8/site-packages (from pyLDAvis==2.1.2->-r requirements.txt (line 11)) (1.18)\n",
      "Requirement already satisfied: python-dateutil>=2.7.3 in /Users/esther/opt/anaconda3/lib/python3.8/site-packages (from pandas->-r requirements.txt (line 1)) (2.8.1)\n",
      "Requirement already satisfied: pytz>=2017.3 in /Users/esther/opt/anaconda3/lib/python3.8/site-packages (from pandas->-r requirements.txt (line 1)) (2021.1)\n",
      "Requirement already satisfied: cycler>=0.10 in /Users/esther/opt/anaconda3/lib/python3.8/site-packages (from matplotlib->-r requirements.txt (line 4)) (0.10.0)\n",
      "Requirement already satisfied: kiwisolver>=1.0.1 in /Users/esther/opt/anaconda3/lib/python3.8/site-packages (from matplotlib->-r requirements.txt (line 4)) (1.3.1)\n",
      "Requirement already satisfied: pyparsing!=2.0.4,!=2.1.2,!=2.1.6,>=2.0.3 in /Users/esther/opt/anaconda3/lib/python3.8/site-packages (from matplotlib->-r requirements.txt (line 4)) (2.4.7)\n",
      "Requirement already satisfied: filelock in /Users/esther/opt/anaconda3/lib/python3.8/site-packages (from transformers->-r requirements.txt (line 8)) (3.0.12)\n",
      "Requirement already satisfied: huggingface-hub<1.0,>=0.11.0 in /Users/esther/opt/anaconda3/lib/python3.8/site-packages (from transformers->-r requirements.txt (line 8)) (0.12.1)\n",
      "Requirement already satisfied: packaging>=20.0 in /Users/esther/opt/anaconda3/lib/python3.8/site-packages (from transformers->-r requirements.txt (line 8)) (21.3)\n",
      "Requirement already satisfied: pyyaml>=5.1 in /Users/esther/opt/anaconda3/lib/python3.8/site-packages (from transformers->-r requirements.txt (line 8)) (5.4.1)\n",
      "Requirement already satisfied: regex!=2019.12.17 in /Users/esther/opt/anaconda3/lib/python3.8/site-packages (from transformers->-r requirements.txt (line 8)) (2021.4.4)\n",
      "Requirement already satisfied: requests in /Users/esther/opt/anaconda3/lib/python3.8/site-packages (from transformers->-r requirements.txt (line 8)) (2.28.0)\n",
      "Requirement already satisfied: tokenizers!=0.11.3,<0.14,>=0.11.1 in /Users/esther/opt/anaconda3/lib/python3.8/site-packages (from transformers->-r requirements.txt (line 8)) (0.13.2)\n",
      "Requirement already satisfied: tqdm>=4.27 in /Users/esther/opt/anaconda3/lib/python3.8/site-packages (from transformers->-r requirements.txt (line 8)) (4.59.0)\n",
      "Requirement already satisfied: scikit-learn>=0.22 in /Users/esther/opt/anaconda3/lib/python3.8/site-packages (from umap-learn->-r requirements.txt (line 10)) (0.24.1)\n",
      "Requirement already satisfied: numba>=0.49 in /Users/esther/opt/anaconda3/lib/python3.8/site-packages (from umap-learn->-r requirements.txt (line 10)) (0.53.1)\n",
      "Requirement already satisfied: pynndescent>=0.5 in /Users/esther/opt/anaconda3/lib/python3.8/site-packages (from umap-learn->-r requirements.txt (line 10)) (0.5.8)\n",
      "Requirement already satisfied: param<2.0,>=1.9.3 in /Users/esther/opt/anaconda3/lib/python3.8/site-packages (from holoviews->-r requirements.txt (line 12)) (1.12.3)\n",
      "Requirement already satisfied: pyviz-comms>=0.7.4 in /Users/esther/opt/anaconda3/lib/python3.8/site-packages (from holoviews->-r requirements.txt (line 12)) (2.2.1)\n",
      "Requirement already satisfied: panel>=0.13.1 in /Users/esther/opt/anaconda3/lib/python3.8/site-packages (from holoviews->-r requirements.txt (line 12)) (0.14.4)\n",
      "Requirement already satisfied: colorcet in /Users/esther/opt/anaconda3/lib/python3.8/site-packages (from holoviews->-r requirements.txt (line 12)) (3.0.1)\n",
      "Requirement already satisfied: tornado>=5.1 in /Users/esther/opt/anaconda3/lib/python3.8/site-packages (from bokeh->-r requirements.txt (line 13)) (6.1)\n",
      "Requirement already satisfied: typing-extensions>=3.10.0 in /Users/esther/opt/anaconda3/lib/python3.8/site-packages (from bokeh->-r requirements.txt (line 13)) (4.5.0)\n",
      "Requirement already satisfied: aiohttp in /Users/esther/opt/anaconda3/lib/python3.8/site-packages (from openai->-r requirements.txt (line 15)) (3.8.4)\n",
      "Requirement already satisfied: Click!=8.0.0,>=7.0 in /Users/esther/opt/anaconda3/lib/python3.8/site-packages (from wandb->-r requirements.txt (line 16)) (7.1.2)\n",
      "Requirement already satisfied: GitPython>=1.0.0 in /Users/esther/opt/anaconda3/lib/python3.8/site-packages (from wandb->-r requirements.txt (line 16)) (3.1.31)\n",
      "Requirement already satisfied: psutil>=5.0.0 in /Users/esther/opt/anaconda3/lib/python3.8/site-packages (from wandb->-r requirements.txt (line 16)) (5.8.0)\n",
      "Requirement already satisfied: sentry-sdk>=1.0.0 in /Users/esther/opt/anaconda3/lib/python3.8/site-packages (from wandb->-r requirements.txt (line 16)) (1.16.0)\n",
      "Requirement already satisfied: docker-pycreds>=0.4.0 in /Users/esther/opt/anaconda3/lib/python3.8/site-packages (from wandb->-r requirements.txt (line 16)) (0.4.0)\n",
      "Requirement already satisfied: pathtools in /Users/esther/opt/anaconda3/lib/python3.8/site-packages (from wandb->-r requirements.txt (line 16)) (0.1.2)\n",
      "Requirement already satisfied: setproctitle in /Users/esther/opt/anaconda3/lib/python3.8/site-packages (from wandb->-r requirements.txt (line 16)) (1.3.2)\n",
      "Requirement already satisfied: setuptools in /Users/esther/opt/anaconda3/lib/python3.8/site-packages (from wandb->-r requirements.txt (line 16)) (52.0.0.post20210125)\n",
      "Requirement already satisfied: appdirs>=1.4.3 in /Users/esther/opt/anaconda3/lib/python3.8/site-packages (from wandb->-r requirements.txt (line 16)) (1.4.4)\n",
      "Requirement already satisfied: protobuf!=4.21.0,<5,>=3.19.0 in /Users/esther/opt/anaconda3/lib/python3.8/site-packages (from wandb->-r requirements.txt (line 16)) (3.19.6)\n",
      "Requirement already satisfied: six in /Users/esther/opt/anaconda3/lib/python3.8/site-packages (from cycler>=0.10->matplotlib->-r requirements.txt (line 4)) (1.15.0)\n"
     ]
    },
    {
     "name": "stdout",
     "output_type": "stream",
     "text": [
      "Requirement already satisfied: gitdb<5,>=4.0.1 in /Users/esther/opt/anaconda3/lib/python3.8/site-packages (from GitPython>=1.0.0->wandb->-r requirements.txt (line 16)) (4.0.10)\n",
      "Requirement already satisfied: MarkupSafe>=2.0 in /Users/esther/opt/anaconda3/lib/python3.8/site-packages (from jinja2>=2.7.2->pyLDAvis==2.1.2->-r requirements.txt (line 11)) (2.0.1)\n",
      "Requirement already satisfied: llvmlite<0.37,>=0.36.0rc1 in /Users/esther/opt/anaconda3/lib/python3.8/site-packages (from numba>=0.49->umap-learn->-r requirements.txt (line 10)) (0.36.0)\n",
      "Requirement already satisfied: markdown in /Users/esther/opt/anaconda3/lib/python3.8/site-packages (from panel>=0.13.1->holoviews->-r requirements.txt (line 12)) (3.4.1)\n",
      "Requirement already satisfied: pyct>=0.4.4 in /Users/esther/opt/anaconda3/lib/python3.8/site-packages (from panel>=0.13.1->holoviews->-r requirements.txt (line 12)) (0.5.0)\n",
      "Requirement already satisfied: bleach in /Users/esther/opt/anaconda3/lib/python3.8/site-packages (from panel>=0.13.1->holoviews->-r requirements.txt (line 12)) (3.3.0)\n",
      "Requirement already satisfied: charset-normalizer~=2.0.0 in /Users/esther/opt/anaconda3/lib/python3.8/site-packages (from requests->transformers->-r requirements.txt (line 8)) (2.0.7)\n",
      "Requirement already satisfied: idna<4,>=2.5 in /Users/esther/opt/anaconda3/lib/python3.8/site-packages (from requests->transformers->-r requirements.txt (line 8)) (2.10)\n",
      "Requirement already satisfied: urllib3<1.27,>=1.21.1 in /Users/esther/opt/anaconda3/lib/python3.8/site-packages (from requests->transformers->-r requirements.txt (line 8)) (1.26.14)\n",
      "Requirement already satisfied: certifi>=2017.4.17 in /Users/esther/opt/anaconda3/lib/python3.8/site-packages (from requests->transformers->-r requirements.txt (line 8)) (2020.12.5)\n",
      "Requirement already satisfied: threadpoolctl>=2.0.0 in /Users/esther/opt/anaconda3/lib/python3.8/site-packages (from scikit-learn>=0.22->umap-learn->-r requirements.txt (line 10)) (2.1.0)\n",
      "Requirement already satisfied: attrs>=17.3.0 in /Users/esther/opt/anaconda3/lib/python3.8/site-packages (from aiohttp->openai->-r requirements.txt (line 15)) (20.3.0)\n",
      "Requirement already satisfied: multidict<7.0,>=4.5 in /Users/esther/opt/anaconda3/lib/python3.8/site-packages (from aiohttp->openai->-r requirements.txt (line 15)) (6.0.4)\n",
      "Requirement already satisfied: async-timeout<5.0,>=4.0.0a3 in /Users/esther/opt/anaconda3/lib/python3.8/site-packages (from aiohttp->openai->-r requirements.txt (line 15)) (4.0.2)\n",
      "Requirement already satisfied: yarl<2.0,>=1.0 in /Users/esther/opt/anaconda3/lib/python3.8/site-packages (from aiohttp->openai->-r requirements.txt (line 15)) (1.8.2)\n",
      "Requirement already satisfied: frozenlist>=1.1.1 in /Users/esther/opt/anaconda3/lib/python3.8/site-packages (from aiohttp->openai->-r requirements.txt (line 15)) (1.3.3)\n",
      "Requirement already satisfied: aiosignal>=1.1.2 in /Users/esther/opt/anaconda3/lib/python3.8/site-packages (from aiohttp->openai->-r requirements.txt (line 15)) (1.3.1)\n",
      "Requirement already satisfied: iniconfig in /Users/esther/opt/anaconda3/lib/python3.8/site-packages (from pytest->pyLDAvis==2.1.2->-r requirements.txt (line 11)) (1.1.1)\n",
      "Requirement already satisfied: pluggy<1.0.0a1,>=0.12 in /Users/esther/opt/anaconda3/lib/python3.8/site-packages (from pytest->pyLDAvis==2.1.2->-r requirements.txt (line 11)) (0.13.1)\n",
      "Requirement already satisfied: py>=1.8.2 in /Users/esther/opt/anaconda3/lib/python3.8/site-packages (from pytest->pyLDAvis==2.1.2->-r requirements.txt (line 11)) (1.10.0)\n",
      "Requirement already satisfied: toml in /Users/esther/opt/anaconda3/lib/python3.8/site-packages (from pytest->pyLDAvis==2.1.2->-r requirements.txt (line 11)) (0.10.2)\n",
      "Requirement already satisfied: smmap<6,>=3.0.1 in /Users/esther/opt/anaconda3/lib/python3.8/site-packages (from gitdb<5,>=4.0.1->GitPython>=1.0.0->wandb->-r requirements.txt (line 16)) (5.0.0)\n",
      "Requirement already satisfied: webencodings in /Users/esther/opt/anaconda3/lib/python3.8/site-packages (from bleach->panel>=0.13.1->holoviews->-r requirements.txt (line 12)) (0.5.1)\n",
      "Requirement already satisfied: importlib-metadata>=4.4 in /Users/esther/opt/anaconda3/lib/python3.8/site-packages (from markdown->panel>=0.13.1->holoviews->-r requirements.txt (line 12)) (4.12.0)\n",
      "Requirement already satisfied: zipp>=0.5 in /Users/esther/opt/anaconda3/lib/python3.8/site-packages (from importlib-metadata>=4.4->markdown->panel>=0.13.1->holoviews->-r requirements.txt (line 12)) (3.4.1)\n"
     ]
    }
   ],
   "source": [
    "!pip install -r requirements.txt"
   ]
  },
  {
   "cell_type": "code",
   "execution_count": 2,
   "id": "dc96e15f",
   "metadata": {},
   "outputs": [],
   "source": [
    "%load_ext autoreload\n",
    "%autoreload 2\n",
    "\n",
    "from scripts.api import *\n",
    "\n",
    "from scripts.create_graph import *\n",
    "import networkx as nx\n",
    "import networkx.algorithms.community as nx_comm\n",
    "import matplotlib.pyplot as plt\n",
    "import seaborn as sns\n",
    "import pandas as pd\n",
    "import datetime\n",
    "\n",
    "pd.set_option(\"display.max_colwidth\", None)"
   ]
  },
  {
   "cell_type": "markdown",
   "id": "2bab77c8",
   "metadata": {},
   "source": [
    "# Read Data - 5 gpt generations data"
   ]
  },
  {
   "cell_type": "code",
   "execution_count": 3,
   "id": "65c81f2b",
   "metadata": {},
   "outputs": [],
   "source": [
    "# get column name\n",
    "col_name = ['created_at', 'screen_name', 'text', 'lang', 'retweet_count',\n",
    "       'reply_count', 'like_count', 'quote_count', 'id', 'author_id',\n",
    "       'conversation_id', 'in_reply_to_user_id', 'geo', 'entities']"
   ]
  },
  {
   "cell_type": "code",
   "execution_count": 4,
   "id": "dabace8f",
   "metadata": {},
   "outputs": [],
   "source": [
    "# read before data\n",
    "fname_db = f\"data/esther\"  \n",
    "before_1 = DB.fetch(table_name='before_1', path=fname_db)\n",
    "before_1.columns = col_name\n",
    "before_2 = DB.fetch(table_name='before_2', path=fname_db)\n",
    "before_2.columns = col_name\n",
    "before_3 = DB.fetch(table_name='before_3', path=fname_db)\n",
    "before_3.columns = col_name\n",
    "before_35 = DB.fetch(table_name='before_35', path=fname_db)\n",
    "before_35.columns = col_name\n",
    "before_4 = DB.fetch(table_name='before_4', path=fname_db)\n",
    "before_4.columns = col_name"
   ]
  },
  {
   "cell_type": "code",
   "execution_count": 5,
   "id": "5e290324",
   "metadata": {},
   "outputs": [],
   "source": [
    "# read after data\n",
    "after_1 = DB.fetch(table_name='after_1', path=fname_db)\n",
    "after_1.columns = col_name\n",
    "after_2 = DB.fetch(table_name='after_2', path=fname_db)\n",
    "after_2.columns = col_name\n",
    "after_3 = DB.fetch(table_name='after_3', path=fname_db)\n",
    "after_3.columns = col_name\n",
    "after_35 = DB.fetch(table_name='after_35', path=fname_db)\n",
    "after_35.columns = col_name\n",
    "after_4 = DB.fetch(table_name='after_4', path=fname_db)\n",
    "after_4.columns = col_name"
   ]
  },
  {
   "cell_type": "code",
   "execution_count": 22,
   "id": "0d5ae0b6",
   "metadata": {},
   "outputs": [],
   "source": [
    "before_1.to_csv('data/before_1.csv')\n",
    "before_2.to_csv('data/before_2.csv')\n",
    "before_3.to_csv('data/before_3.csv')\n",
    "before_35.to_csv('data/before_35.csv')\n",
    "before_4.to_csv('data/before_4.csv')"
   ]
  },
  {
   "cell_type": "code",
   "execution_count": 23,
   "id": "84cde4fa",
   "metadata": {},
   "outputs": [],
   "source": [
    "after_1.to_csv('data/after_1.csv')\n",
    "after_2.to_csv('data/after_2.csv')\n",
    "after_3.to_csv('data/after_3.csv')\n",
    "after_35.to_csv('data/after_35.csv')"
   ]
  },
  {
   "cell_type": "code",
   "execution_count": 24,
   "id": "15f59a20",
   "metadata": {},
   "outputs": [],
   "source": [
    "after_4_1 = after_4[after_4.created_at>'2023-03-17']\n",
    "after_4_2 = after_4[after_4.created_at>'2023-03-16']\n",
    "after_4_2 = after_4_2[after_4_2.created_at<'2023-03-17']\n",
    "after_4_3 = after_4[after_4.created_at<'2023-03-16']"
   ]
  },
  {
   "cell_type": "code",
   "execution_count": 25,
   "id": "fcb3a95e",
   "metadata": {},
   "outputs": [],
   "source": [
    "after_4_1.to_csv('data/after_4_1.csv')\n",
    "after_4_2.to_csv('data/after_4_2.csv')\n",
    "after_4_3.to_csv('data/after_4_3.csv')"
   ]
  },
  {
   "cell_type": "markdown",
   "id": "a0dab3df",
   "metadata": {},
   "source": [
    "# Detect Sentiment"
   ]
  },
  {
   "cell_type": "code",
   "execution_count": 15,
   "id": "0370521e",
   "metadata": {},
   "outputs": [],
   "source": [
    "import umap\n",
    "import scripts.TextAnalysis as ta\n",
    "from scripts.api import *\n",
    "from transformers import AutoTokenizer, AutoModelForSequenceClassification\n",
    "import codecs  #this let's us display tweets properly (emojis, etc.)\n",
    "\n",
    "import sklearn.cluster as cluster\n",
    "from sklearn.feature_extraction.text import CountVectorizer, TfidfVectorizer\n",
    "from scipy import stats\n",
    "\n",
    "from wordcloud import WordCloud, STOPWORDS, ImageColorGenerator"
   ]
  },
  {
   "cell_type": "code",
   "execution_count": 16,
   "id": "c6c282dd",
   "metadata": {},
   "outputs": [
    {
     "data": {
      "application/vnd.jupyter.widget-view+json": {
       "model_id": "8afa9f6eb7644e3da9e8f4e58018ef9c",
       "version_major": 2,
       "version_minor": 0
      },
      "text/plain": [
       "Downloading (…)okenizer_config.json:   0%|          | 0.00/39.0 [00:00<?, ?B/s]"
      ]
     },
     "metadata": {},
     "output_type": "display_data"
    },
    {
     "data": {
      "application/vnd.jupyter.widget-view+json": {
       "model_id": "6bd06ce7c25b43878afe16cb7079d138",
       "version_major": 2,
       "version_minor": 0
      },
      "text/plain": [
       "Downloading (…)lve/main/config.json:   0%|          | 0.00/953 [00:00<?, ?B/s]"
      ]
     },
     "metadata": {},
     "output_type": "display_data"
    },
    {
     "data": {
      "application/vnd.jupyter.widget-view+json": {
       "model_id": "65023c5f20434dee9db98873dbf91feb",
       "version_major": 2,
       "version_minor": 0
      },
      "text/plain": [
       "Downloading (…)solve/main/vocab.txt:   0%|          | 0.00/872k [00:00<?, ?B/s]"
      ]
     },
     "metadata": {},
     "output_type": "display_data"
    },
    {
     "data": {
      "application/vnd.jupyter.widget-view+json": {
       "model_id": "4b4022d61a4d475a97d0ce43ca5702bd",
       "version_major": 2,
       "version_minor": 0
      },
      "text/plain": [
       "Downloading (…)cial_tokens_map.json:   0%|          | 0.00/112 [00:00<?, ?B/s]"
      ]
     },
     "metadata": {},
     "output_type": "display_data"
    },
    {
     "ename": "ImportError",
     "evalue": "\nAutoModelForSequenceClassification requires the PyTorch library but it was not found in your environment.\nHowever, we were able to find a TensorFlow installation. TensorFlow classes begin\nwith \"TF\", but are otherwise identically named to our PyTorch classes. This\nmeans that the TF equivalent of the class you tried to import would be \"TFAutoModelForSequenceClassification\".\nIf you want to use TensorFlow, please use TF classes instead!\n\nIf you really do want to use PyTorch please go to\nhttps://pytorch.org/get-started/locally/ and follow the instructions that\nmatch your environment.\n",
     "output_type": "error",
     "traceback": [
      "\u001b[0;31m---------------------------------------------------------------------------\u001b[0m",
      "\u001b[0;31mImportError\u001b[0m                               Traceback (most recent call last)",
      "\u001b[0;32m<ipython-input-16-9e82507e1981>\u001b[0m in \u001b[0;36m<module>\u001b[0;34m\u001b[0m\n\u001b[1;32m      1\u001b[0m \u001b[0mtokenizer\u001b[0m \u001b[0;34m=\u001b[0m \u001b[0mAutoTokenizer\u001b[0m\u001b[0;34m.\u001b[0m\u001b[0mfrom_pretrained\u001b[0m\u001b[0;34m(\u001b[0m\u001b[0;34m\"nlptown/bert-base-multilingual-uncased-sentiment\"\u001b[0m\u001b[0;34m)\u001b[0m\u001b[0;34m\u001b[0m\u001b[0;34m\u001b[0m\u001b[0m\n\u001b[0;32m----> 2\u001b[0;31m \u001b[0mmodel\u001b[0m \u001b[0;34m=\u001b[0m \u001b[0mAutoModelForSequenceClassification\u001b[0m\u001b[0;34m.\u001b[0m\u001b[0mfrom_pretrained\u001b[0m\u001b[0;34m(\u001b[0m\u001b[0;34m\"nlptown/bert-base-multilingual-uncased-sentiment\"\u001b[0m\u001b[0;34m)\u001b[0m\u001b[0;34m\u001b[0m\u001b[0;34m\u001b[0m\u001b[0m\n\u001b[0m",
      "\u001b[0;32m~/opt/anaconda3/lib/python3.8/site-packages/transformers/utils/import_utils.py\u001b[0m in \u001b[0;36m__getattribute__\u001b[0;34m(cls, key)\u001b[0m\n\u001b[1;32m   1048\u001b[0m         \u001b[0;32mif\u001b[0m \u001b[0mkey\u001b[0m\u001b[0;34m.\u001b[0m\u001b[0mstartswith\u001b[0m\u001b[0;34m(\u001b[0m\u001b[0;34m\"_\"\u001b[0m\u001b[0;34m)\u001b[0m \u001b[0;32mand\u001b[0m \u001b[0mkey\u001b[0m \u001b[0;34m!=\u001b[0m \u001b[0;34m\"_from_config\"\u001b[0m\u001b[0;34m:\u001b[0m\u001b[0;34m\u001b[0m\u001b[0;34m\u001b[0m\u001b[0m\n\u001b[1;32m   1049\u001b[0m             \u001b[0;32mreturn\u001b[0m \u001b[0msuper\u001b[0m\u001b[0;34m(\u001b[0m\u001b[0;34m)\u001b[0m\u001b[0;34m.\u001b[0m\u001b[0m__getattribute__\u001b[0m\u001b[0;34m(\u001b[0m\u001b[0mkey\u001b[0m\u001b[0;34m)\u001b[0m\u001b[0;34m\u001b[0m\u001b[0;34m\u001b[0m\u001b[0m\n\u001b[0;32m-> 1050\u001b[0;31m         \u001b[0mrequires_backends\u001b[0m\u001b[0;34m(\u001b[0m\u001b[0mcls\u001b[0m\u001b[0;34m,\u001b[0m \u001b[0mcls\u001b[0m\u001b[0;34m.\u001b[0m\u001b[0m_backends\u001b[0m\u001b[0;34m)\u001b[0m\u001b[0;34m\u001b[0m\u001b[0;34m\u001b[0m\u001b[0m\n\u001b[0m\u001b[1;32m   1051\u001b[0m \u001b[0;34m\u001b[0m\u001b[0m\n\u001b[1;32m   1052\u001b[0m \u001b[0;34m\u001b[0m\u001b[0m\n",
      "\u001b[0;32m~/opt/anaconda3/lib/python3.8/site-packages/transformers/utils/import_utils.py\u001b[0m in \u001b[0;36mrequires_backends\u001b[0;34m(obj, backends)\u001b[0m\n\u001b[1;32m   1027\u001b[0m     \u001b[0;31m# Raise an error for users who might not realize that classes without \"TF\" are torch-only\u001b[0m\u001b[0;34m\u001b[0m\u001b[0;34m\u001b[0m\u001b[0;34m\u001b[0m\u001b[0m\n\u001b[1;32m   1028\u001b[0m     \u001b[0;32mif\u001b[0m \u001b[0;34m\"torch\"\u001b[0m \u001b[0;32min\u001b[0m \u001b[0mbackends\u001b[0m \u001b[0;32mand\u001b[0m \u001b[0;34m\"tf\"\u001b[0m \u001b[0;32mnot\u001b[0m \u001b[0;32min\u001b[0m \u001b[0mbackends\u001b[0m \u001b[0;32mand\u001b[0m \u001b[0;32mnot\u001b[0m \u001b[0mis_torch_available\u001b[0m\u001b[0;34m(\u001b[0m\u001b[0;34m)\u001b[0m \u001b[0;32mand\u001b[0m \u001b[0mis_tf_available\u001b[0m\u001b[0;34m(\u001b[0m\u001b[0;34m)\u001b[0m\u001b[0;34m:\u001b[0m\u001b[0;34m\u001b[0m\u001b[0;34m\u001b[0m\u001b[0m\n\u001b[0;32m-> 1029\u001b[0;31m         \u001b[0;32mraise\u001b[0m \u001b[0mImportError\u001b[0m\u001b[0;34m(\u001b[0m\u001b[0mPYTORCH_IMPORT_ERROR_WITH_TF\u001b[0m\u001b[0;34m.\u001b[0m\u001b[0mformat\u001b[0m\u001b[0;34m(\u001b[0m\u001b[0mname\u001b[0m\u001b[0;34m)\u001b[0m\u001b[0;34m)\u001b[0m\u001b[0;34m\u001b[0m\u001b[0;34m\u001b[0m\u001b[0m\n\u001b[0m\u001b[1;32m   1030\u001b[0m \u001b[0;34m\u001b[0m\u001b[0m\n\u001b[1;32m   1031\u001b[0m     \u001b[0;31m# Raise the inverse error for PyTorch users trying to load TF classes\u001b[0m\u001b[0;34m\u001b[0m\u001b[0;34m\u001b[0m\u001b[0;34m\u001b[0m\u001b[0m\n",
      "\u001b[0;31mImportError\u001b[0m: \nAutoModelForSequenceClassification requires the PyTorch library but it was not found in your environment.\nHowever, we were able to find a TensorFlow installation. TensorFlow classes begin\nwith \"TF\", but are otherwise identically named to our PyTorch classes. This\nmeans that the TF equivalent of the class you tried to import would be \"TFAutoModelForSequenceClassification\".\nIf you want to use TensorFlow, please use TF classes instead!\n\nIf you really do want to use PyTorch please go to\nhttps://pytorch.org/get-started/locally/ and follow the instructions that\nmatch your environment.\n"
     ]
    }
   ],
   "source": [
    "tokenizer = AutoTokenizer.from_pretrained(\"nlptown/bert-base-multilingual-uncased-sentiment\")\n",
    "model = AutoModelForSequenceClassification.from_pretrained(\"nlptown/bert-base-multilingual-uncased-sentiment\")"
   ]
  },
  {
   "cell_type": "code",
   "execution_count": 20,
   "id": "49c6dc99",
   "metadata": {},
   "outputs": [],
   "source": [
    "def sentiment_classifier(text,model,tokenizer):\n",
    "    inputs = tokenizer.encode_plus(text, return_tensors='pt', add_special_tokens=True)\n",
    "\n",
    "    token_type_ids = inputs['token_type_ids']\n",
    "    input_ids = inputs['input_ids']\n",
    "\n",
    "    output = model(input_ids, token_type_ids=token_type_ids,return_dict=True,output_hidden_states=True)\n",
    "    logits = np.array(output.logits.tolist()[0])\n",
    "    prob = np.exp(logits)/np.sum(np.exp(logits))\n",
    "    sentiment = np.sum([(x+1)*prob[x] for x in range(len(prob))])  #use this line if you want the mean score\n",
    "    \n",
    "    return sentiment"
   ]
  },
  {
   "cell_type": "code",
   "execution_count": null,
   "id": "43676116",
   "metadata": {},
   "outputs": [],
   "source": []
  }
 ],
 "metadata": {
  "kernelspec": {
   "display_name": "Python 3",
   "language": "python",
   "name": "python3"
  },
  "language_info": {
   "codemirror_mode": {
    "name": "ipython",
    "version": 3
   },
   "file_extension": ".py",
   "mimetype": "text/x-python",
   "name": "python",
   "nbconvert_exporter": "python",
   "pygments_lexer": "ipython3",
   "version": "3.8.8"
  }
 },
 "nbformat": 4,
 "nbformat_minor": 5
}
